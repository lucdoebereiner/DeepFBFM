{
 "cells": [
  {
   "cell_type": "code",
   "execution_count": 777,
   "id": "0d827453",
   "metadata": {},
   "outputs": [],
   "source": [
    "import librosa\n",
    "import librosa.display\n",
    "import numpy as np\n",
    "import pandas as pd\n",
    "from sklearn.model_selection import train_test_split \n",
    "import pickle\n",
    "import keras\n",
    "from keras_visualizer import visualizer \n",
    "from keras.models import Model\n",
    "import tensorflow as tf\n",
    "import tensorflow.math as math\n",
    "import keras.layers as layers\n",
    "from sklearn.preprocessing import MinMaxScaler\n",
    "from keras.models import Sequential\n",
    "from keras.layers import Input, Dense, Dropout, Activation\n",
    "from keras.callbacks import ModelCheckpoint \n",
    "from datetime import datetime \n",
    "from keras.wrappers.scikit_learn import KerasRegressor\n",
    "from sklearn.model_selection import cross_val_score\n",
    "from sklearn.model_selection import KFold"
   ]
  },
  {
   "cell_type": "code",
   "execution_count": 782,
   "id": "3e57dfab",
   "metadata": {},
   "outputs": [],
   "source": [
    "def extract_features(file_name):\n",
    "    audio, sample_rate = librosa.load(file_name) \n",
    "    mfccs = librosa.feature.mfcc(y=audio, sr=sample_rate, hop_length=1024, n_mfcc=20)\n",
    "    \n",
    "    return mfccs.flatten()"
   ]
  },
  {
   "cell_type": "code",
   "execution_count": 783,
   "id": "4981965d",
   "metadata": {},
   "outputs": [],
   "source": [
    "def analysis_data_frame(parameters):\n",
    "    idx = int(parameters[0])\n",
    "    print(idx, end=\"\\r\")\n",
    "    synth_parameters = parameters[1:]\n",
    "    wav = \"/home/luc/src/python/fm_tensor/recs3/fm\" + str(idx) + \".wav\"\n",
    "    feature = extract_features(wav);\n",
    "    \n",
    "    return feature, synth_parameters"
   ]
  },
  {
   "cell_type": "code",
   "execution_count": 784,
   "id": "4140af5f",
   "metadata": {},
   "outputs": [],
   "source": [
    "def analyze_audios():\n",
    "    specs = np.genfromtxt('/home/luc/src/python/fm_tensor/recs3/specs.csv', delimiter=',')\n",
    "    frames = list(map(analysis_data_frame, specs))\n",
    "    data_frames = pd.DataFrame(frames, columns=['feature','label'])\n",
    "\n",
    "    return data_frames"
   ]
  },
  {
   "cell_type": "code",
   "execution_count": 785,
   "id": "8601fb7a",
   "metadata": {},
   "outputs": [
    {
     "name": "stdout",
     "output_type": "stream",
     "text": [
      "59999\r"
     ]
    }
   ],
   "source": [
    "data = analyze_audios()"
   ]
  },
  {
   "cell_type": "code",
   "execution_count": 776,
   "id": "0684ea74",
   "metadata": {},
   "outputs": [
    {
     "ename": "AttributeError",
     "evalue": "'numpy.ndarray' object has no attribute 'to_list'",
     "output_type": "error",
     "traceback": [
      "\u001b[0;31m---------------------------------------------------------------------------\u001b[0m",
      "\u001b[0;31mAttributeError\u001b[0m                            Traceback (most recent call last)",
      "\u001b[0;32m/tmp/ipykernel_104491/315263752.py\u001b[0m in \u001b[0;36m<module>\u001b[0;34m\u001b[0m\n\u001b[1;32m      1\u001b[0m \u001b[0mspecs\u001b[0m \u001b[0;34m=\u001b[0m \u001b[0mnp\u001b[0m\u001b[0;34m.\u001b[0m\u001b[0mgenfromtxt\u001b[0m\u001b[0;34m(\u001b[0m\u001b[0;34m'/home/luc/src/python/fm_tensor/recs2/specs.csv'\u001b[0m\u001b[0;34m,\u001b[0m \u001b[0mdelimiter\u001b[0m\u001b[0;34m=\u001b[0m\u001b[0;34m','\u001b[0m\u001b[0;34m)\u001b[0m\u001b[0;34m\u001b[0m\u001b[0;34m\u001b[0m\u001b[0m\n\u001b[0;32m----> 2\u001b[0;31m \u001b[0mdata\u001b[0m\u001b[0;34m[\u001b[0m\u001b[0;34m'label'\u001b[0m\u001b[0;34m]\u001b[0m \u001b[0;34m=\u001b[0m \u001b[0mspecs\u001b[0m\u001b[0;34m.\u001b[0m\u001b[0mto_list\u001b[0m\u001b[0;34m(\u001b[0m\u001b[0;34m)\u001b[0m\u001b[0;34m\u001b[0m\u001b[0;34m\u001b[0m\u001b[0m\n\u001b[0m",
      "\u001b[0;31mAttributeError\u001b[0m: 'numpy.ndarray' object has no attribute 'to_list'"
     ]
    }
   ],
   "source": [
    "specs = np.genfromtxt('/home/luc/src/python/fm_tensor/recs3/specs.csv', delimiter=',')\n",
    "data['label'] = specs.to_list()"
   ]
  },
  {
   "cell_type": "code",
   "execution_count": 786,
   "id": "3640eacf",
   "metadata": {},
   "outputs": [
    {
     "data": {
      "text/plain": [
       "array([46.64231157,  0.5       ,  1.10478791,  0.01036095])"
      ]
     },
     "execution_count": 786,
     "metadata": {},
     "output_type": "execute_result"
    }
   ],
   "source": [
    "data.label[0]"
   ]
  },
  {
   "cell_type": "code",
   "execution_count": 787,
   "id": "04003b91",
   "metadata": {},
   "outputs": [],
   "source": [
    "file = open('/home/luc/src/python/fm_tensor/recs3/data.pkl', 'wb')\n",
    "pickle.dump(data, file)\n",
    "file.close()"
   ]
  },
  {
   "cell_type": "code",
   "execution_count": 788,
   "id": "6d2a1092",
   "metadata": {
    "scrolled": true
   },
   "outputs": [
    {
     "data": {
      "text/html": [
       "<div>\n",
       "<style scoped>\n",
       "    .dataframe tbody tr th:only-of-type {\n",
       "        vertical-align: middle;\n",
       "    }\n",
       "\n",
       "    .dataframe tbody tr th {\n",
       "        vertical-align: top;\n",
       "    }\n",
       "\n",
       "    .dataframe thead th {\n",
       "        text-align: right;\n",
       "    }\n",
       "</style>\n",
       "<table border=\"1\" class=\"dataframe\">\n",
       "  <thead>\n",
       "    <tr style=\"text-align: right;\">\n",
       "      <th></th>\n",
       "      <th>feature</th>\n",
       "      <th>label</th>\n",
       "    </tr>\n",
       "  </thead>\n",
       "  <tbody>\n",
       "    <tr>\n",
       "      <th>0</th>\n",
       "      <td>[-514.0832, -546.2257, -547.7809, -548.06384, ...</td>\n",
       "      <td>[46.642311573029, 0.5, 1.1047879099846, 0.0103...</td>\n",
       "    </tr>\n",
       "    <tr>\n",
       "      <th>1</th>\n",
       "      <td>[-513.8092, -545.7849, -550.1052, -550.35986, ...</td>\n",
       "      <td>[41.149642467499, 0.5, 1.122685790062, 0.01617...</td>\n",
       "    </tr>\n",
       "    <tr>\n",
       "      <th>2</th>\n",
       "      <td>[-517.2228, -545.9017, -550.81244, -549.3952, ...</td>\n",
       "      <td>[39.642944812775, 0.6, 1.0858309864998, 0.0337...</td>\n",
       "    </tr>\n",
       "    <tr>\n",
       "      <th>3</th>\n",
       "      <td>[-516.4214, -543.3951, -546.614, -546.53217, -...</td>\n",
       "      <td>[44.028305053711, 0.5, 1.0036882281303, 0.0492...</td>\n",
       "    </tr>\n",
       "    <tr>\n",
       "      <th>4</th>\n",
       "      <td>[-497.70135, -541.6419, -546.3492, -545.2183, ...</td>\n",
       "      <td>[37.099526882172, 0.5, 1.0231810927391, 0.0994...</td>\n",
       "    </tr>\n",
       "  </tbody>\n",
       "</table>\n",
       "</div>"
      ],
      "text/plain": [
       "                                             feature  \\\n",
       "0  [-514.0832, -546.2257, -547.7809, -548.06384, ...   \n",
       "1  [-513.8092, -545.7849, -550.1052, -550.35986, ...   \n",
       "2  [-517.2228, -545.9017, -550.81244, -549.3952, ...   \n",
       "3  [-516.4214, -543.3951, -546.614, -546.53217, -...   \n",
       "4  [-497.70135, -541.6419, -546.3492, -545.2183, ...   \n",
       "\n",
       "                                               label  \n",
       "0  [46.642311573029, 0.5, 1.1047879099846, 0.0103...  \n",
       "1  [41.149642467499, 0.5, 1.122685790062, 0.01617...  \n",
       "2  [39.642944812775, 0.6, 1.0858309864998, 0.0337...  \n",
       "3  [44.028305053711, 0.5, 1.0036882281303, 0.0492...  \n",
       "4  [37.099526882172, 0.5, 1.0231810927391, 0.0994...  "
      ]
     },
     "execution_count": 788,
     "metadata": {},
     "output_type": "execute_result"
    }
   ],
   "source": [
    " data.head()"
   ]
  },
  {
   "cell_type": "code",
   "execution_count": 793,
   "id": "94be1267",
   "metadata": {},
   "outputs": [],
   "source": [
    "# normalizing y (the synth parameters)\n",
    "X = np.array(data.feature.tolist())\n",
    "y_not_normalized = np.array(data.label.tolist())\n",
    "y = y_not_normalized / y_not_normalized.max(axis= 0)\n",
    "\n",
    "x_train, x_test, y_train, y_test = train_test_split(X, y, test_size=0.2, random_state = 127)"
   ]
  },
  {
   "cell_type": "code",
   "execution_count": 794,
   "id": "b17c4710",
   "metadata": {},
   "outputs": [
    {
     "data": {
      "text/plain": [
       "array([[0.65468709, 0.07194245, 0.58046454, 0.00700735],\n",
       "       [0.01761434, 0.68345324, 0.57290597, 0.05564194],\n",
       "       [0.05194696, 0.08633094, 0.33965695, 0.20006298],\n",
       "       ...,\n",
       "       [0.02052235, 0.44604317, 0.02314291, 0.00767145],\n",
       "       [0.00497319, 0.14388489, 0.23213065, 0.18503013],\n",
       "       [0.03957119, 0.10071942, 0.07438449, 0.18873632]])"
      ]
     },
     "execution_count": 794,
     "metadata": {},
     "output_type": "execute_result"
    }
   ],
   "source": [
    "y_train"
   ]
  },
  {
   "cell_type": "code",
   "execution_count": 822,
   "id": "67df4dde",
   "metadata": {},
   "outputs": [],
   "source": [
    "def build_model_graph(input_shape=(440,), n_outputs=6):\n",
    "    model = Sequential()\n",
    "    model.add(Input(shape=input_shape))\n",
    "    model.add(Dense(60))\n",
    "    model.add(Activation('relu'))\n",
    "  #  model.add(Dropout(0.1))\n",
    "    model.add(Dense(40))\n",
    "    model.add(Activation('relu'))\n",
    "  #  model.add(Dropout(0.1))\n",
    "    model.add(Dense(20))\n",
    "    model.add(Activation('relu'))\n",
    "   # model.add(Dropout(0.1))\n",
    "    model.add(Dense(n_outputs))\n",
    "    #model.add(Activation('softmax'))\n",
    "    # Compile the model\n",
    "    #model.compile(loss='mean_absolute_error', metrics=['accuracy'], optimizer='adam')\n",
    "    rmse = tf.keras.metrics.RootMeanSquaredError()\n",
    "    model.compile(loss='mse', metrics=[rmse], optimizer='adam')\n",
    "\n",
    "    return model"
   ]
  },
  {
   "cell_type": "code",
   "execution_count": 823,
   "id": "1c7fdb79",
   "metadata": {},
   "outputs": [
    {
     "name": "stdout",
     "output_type": "stream",
     "text": [
      "Model: \"sequential_84\"\n",
      "_________________________________________________________________\n",
      "Layer (type)                 Output Shape              Param #   \n",
      "=================================================================\n",
      "dense_246 (Dense)            (None, 160)               70560     \n",
      "_________________________________________________________________\n",
      "activation_97 (Activation)   (None, 160)               0         \n",
      "_________________________________________________________________\n",
      "dense_247 (Dense)            (None, 40)                6440      \n",
      "_________________________________________________________________\n",
      "activation_98 (Activation)   (None, 40)                0         \n",
      "_________________________________________________________________\n",
      "dense_248 (Dense)            (None, 20)                820       \n",
      "_________________________________________________________________\n",
      "activation_99 (Activation)   (None, 20)                0         \n",
      "_________________________________________________________________\n",
      "dense_249 (Dense)            (None, 4)                 84        \n",
      "=================================================================\n",
      "Total params: 77,904\n",
      "Trainable params: 77,904\n",
      "Non-trainable params: 0\n",
      "_________________________________________________________________\n"
     ]
    }
   ],
   "source": [
    "model = build_model_graph((x_train.shape[1],), y_train.shape[1])\n",
    "model.summary()"
   ]
  },
  {
   "cell_type": "code",
   "execution_count": 824,
   "id": "fbfc617e",
   "metadata": {},
   "outputs": [
    {
     "data": {
      "text/plain": [
       "[2194.386962890625, 46.84428405761719]"
      ]
     },
     "execution_count": 824,
     "metadata": {},
     "output_type": "execute_result"
    }
   ],
   "source": [
    "# Calculate pre-training accuracy \n",
    "model.evaluate(x_test, y_test, verbose=0)"
   ]
  },
  {
   "cell_type": "code",
   "execution_count": 825,
   "id": "7ff7987e",
   "metadata": {},
   "outputs": [
    {
     "name": "stdout",
     "output_type": "stream",
     "text": [
      "Epoch 1/1000\n",
      "1500/1500 [==============================] - 1s 525us/step - loss: 5.0339 - root_mean_squared_error: 2.2436 - val_loss: 0.0642 - val_root_mean_squared_error: 0.2534\n",
      "Epoch 2/1000\n",
      "1500/1500 [==============================] - 1s 523us/step - loss: 0.0631 - root_mean_squared_error: 0.2512 - val_loss: 0.0616 - val_root_mean_squared_error: 0.2481\n",
      "Epoch 3/1000\n",
      "1500/1500 [==============================] - 1s 524us/step - loss: 0.0606 - root_mean_squared_error: 0.2462 - val_loss: 0.0589 - val_root_mean_squared_error: 0.2426\n",
      "Epoch 4/1000\n",
      "1500/1500 [==============================] - 1s 526us/step - loss: 0.0566 - root_mean_squared_error: 0.2380 - val_loss: 0.0557 - val_root_mean_squared_error: 0.2359\n",
      "Epoch 5/1000\n",
      "1500/1500 [==============================] - 1s 528us/step - loss: 0.0544 - root_mean_squared_error: 0.2333 - val_loss: 0.0546 - val_root_mean_squared_error: 0.2337\n",
      "Epoch 6/1000\n",
      "1500/1500 [==============================] - 1s 525us/step - loss: 0.0549 - root_mean_squared_error: 0.2343 - val_loss: 0.0564 - val_root_mean_squared_error: 0.2375\n",
      "Epoch 7/1000\n",
      "1500/1500 [==============================] - 1s 531us/step - loss: 0.0551 - root_mean_squared_error: 0.2347 - val_loss: 0.0548 - val_root_mean_squared_error: 0.2342\n",
      "Epoch 8/1000\n",
      "1500/1500 [==============================] - 1s 528us/step - loss: 0.0559 - root_mean_squared_error: 0.2363 - val_loss: 0.0562 - val_root_mean_squared_error: 0.2371\n",
      "Epoch 9/1000\n",
      "1500/1500 [==============================] - 1s 533us/step - loss: 0.0566 - root_mean_squared_error: 0.2378 - val_loss: 0.0554 - val_root_mean_squared_error: 0.2354\n",
      "Epoch 10/1000\n",
      "1500/1500 [==============================] - 1s 564us/step - loss: 0.0556 - root_mean_squared_error: 0.2358 - val_loss: 0.0563 - val_root_mean_squared_error: 0.2373\n",
      "Epoch 11/1000\n",
      "1500/1500 [==============================] - 1s 599us/step - loss: 0.0554 - root_mean_squared_error: 0.2353 - val_loss: 0.0551 - val_root_mean_squared_error: 0.2347\n",
      "Epoch 12/1000\n",
      "1500/1500 [==============================] - 1s 534us/step - loss: 0.0558 - root_mean_squared_error: 0.2361 - val_loss: 0.0550 - val_root_mean_squared_error: 0.2345\n",
      "Epoch 13/1000\n",
      "1500/1500 [==============================] - 1s 534us/step - loss: 0.0552 - root_mean_squared_error: 0.2349 - val_loss: 0.0549 - val_root_mean_squared_error: 0.2344\n",
      "Epoch 14/1000\n",
      "1500/1500 [==============================] - 1s 537us/step - loss: 0.0549 - root_mean_squared_error: 0.2343 - val_loss: 0.0547 - val_root_mean_squared_error: 0.2340\n",
      "Epoch 15/1000\n",
      "1500/1500 [==============================] - 1s 536us/step - loss: 0.0546 - root_mean_squared_error: 0.2337 - val_loss: 0.0544 - val_root_mean_squared_error: 0.2331\n",
      "Epoch 16/1000\n",
      "1500/1500 [==============================] - 1s 575us/step - loss: 0.0548 - root_mean_squared_error: 0.2340 - val_loss: 0.0550 - val_root_mean_squared_error: 0.2345\n",
      "Epoch 17/1000\n",
      "1500/1500 [==============================] - 1s 539us/step - loss: 0.0544 - root_mean_squared_error: 0.2332 - val_loss: 0.0552 - val_root_mean_squared_error: 0.2349\n",
      "Epoch 18/1000\n",
      "1500/1500 [==============================] - 1s 530us/step - loss: 0.0542 - root_mean_squared_error: 0.2328 - val_loss: 0.0540 - val_root_mean_squared_error: 0.2323\n",
      "Epoch 19/1000\n",
      "1500/1500 [==============================] - 1s 531us/step - loss: 0.0537 - root_mean_squared_error: 0.2318 - val_loss: 0.0528 - val_root_mean_squared_error: 0.2298\n",
      "Epoch 20/1000\n",
      "1500/1500 [==============================] - 1s 536us/step - loss: 0.0533 - root_mean_squared_error: 0.2310 - val_loss: 0.0535 - val_root_mean_squared_error: 0.2313\n",
      "Epoch 21/1000\n",
      "1500/1500 [==============================] - 1s 537us/step - loss: 0.0533 - root_mean_squared_error: 0.2310 - val_loss: 0.0524 - val_root_mean_squared_error: 0.2289\n",
      "Epoch 22/1000\n",
      "1500/1500 [==============================] - 1s 570us/step - loss: 0.0534 - root_mean_squared_error: 0.2310 - val_loss: 0.0540 - val_root_mean_squared_error: 0.2325\n",
      "Epoch 23/1000\n",
      "1500/1500 [==============================] - 1s 536us/step - loss: 0.0535 - root_mean_squared_error: 0.2313 - val_loss: 0.0530 - val_root_mean_squared_error: 0.2302\n",
      "Epoch 24/1000\n",
      "1500/1500 [==============================] - 1s 550us/step - loss: 0.0530 - root_mean_squared_error: 0.2302 - val_loss: 0.0527 - val_root_mean_squared_error: 0.2295\n",
      "Epoch 25/1000\n",
      "1500/1500 [==============================] - 1s 558us/step - loss: 0.0540 - root_mean_squared_error: 0.2323 - val_loss: 0.0529 - val_root_mean_squared_error: 0.2299\n",
      "Epoch 26/1000\n",
      "1500/1500 [==============================] - 1s 522us/step - loss: 0.0535 - root_mean_squared_error: 0.2313 - val_loss: 0.0533 - val_root_mean_squared_error: 0.2309\n",
      "Epoch 27/1000\n",
      "1500/1500 [==============================] - 1s 525us/step - loss: 0.0532 - root_mean_squared_error: 0.2306 - val_loss: 0.0554 - val_root_mean_squared_error: 0.2355\n",
      "Epoch 28/1000\n",
      "1500/1500 [==============================] - 1s 529us/step - loss: 0.0527 - root_mean_squared_error: 0.2295 - val_loss: 0.0528 - val_root_mean_squared_error: 0.2298\n",
      "Epoch 29/1000\n",
      "1500/1500 [==============================] - 1s 596us/step - loss: 0.0533 - root_mean_squared_error: 0.2308 - val_loss: 0.0541 - val_root_mean_squared_error: 0.2326\n",
      "Epoch 30/1000\n",
      "1500/1500 [==============================] - 1s 529us/step - loss: 0.0532 - root_mean_squared_error: 0.2306 - val_loss: 0.0531 - val_root_mean_squared_error: 0.2305\n",
      "Epoch 31/1000\n",
      "1500/1500 [==============================] - 1s 538us/step - loss: 0.0530 - root_mean_squared_error: 0.2303 - val_loss: 0.0524 - val_root_mean_squared_error: 0.2289\n",
      "Epoch 32/1000\n",
      "1500/1500 [==============================] - 1s 537us/step - loss: 0.0529 - root_mean_squared_error: 0.2299 - val_loss: 0.0537 - val_root_mean_squared_error: 0.2318\n",
      "Epoch 33/1000\n",
      "1500/1500 [==============================] - 1s 549us/step - loss: 0.0530 - root_mean_squared_error: 0.2302 - val_loss: 0.0540 - val_root_mean_squared_error: 0.2324\n",
      "Epoch 34/1000\n",
      "1500/1500 [==============================] - 1s 541us/step - loss: 0.0532 - root_mean_squared_error: 0.2305 - val_loss: 0.0536 - val_root_mean_squared_error: 0.2316\n",
      "Epoch 35/1000\n",
      "1500/1500 [==============================] - 1s 543us/step - loss: 0.0534 - root_mean_squared_error: 0.2310 - val_loss: 0.0597 - val_root_mean_squared_error: 0.2443\n",
      "Epoch 36/1000\n",
      "1500/1500 [==============================] - 1s 528us/step - loss: 0.0535 - root_mean_squared_error: 0.2313 - val_loss: 0.0536 - val_root_mean_squared_error: 0.2315\n",
      "Epoch 37/1000\n",
      "1500/1500 [==============================] - 1s 550us/step - loss: 0.0531 - root_mean_squared_error: 0.2305 - val_loss: 0.0535 - val_root_mean_squared_error: 0.2312\n",
      "Epoch 38/1000\n",
      "1500/1500 [==============================] - 1s 555us/step - loss: 0.0528 - root_mean_squared_error: 0.2298 - val_loss: 0.0533 - val_root_mean_squared_error: 0.2309\n",
      "Epoch 39/1000\n",
      "1500/1500 [==============================] - 1s 529us/step - loss: 0.0531 - root_mean_squared_error: 0.2305 - val_loss: 0.0526 - val_root_mean_squared_error: 0.2294\n",
      "Epoch 40/1000\n",
      "1500/1500 [==============================] - 1s 546us/step - loss: 0.0530 - root_mean_squared_error: 0.2302 - val_loss: 0.0536 - val_root_mean_squared_error: 0.2314\n",
      "Epoch 41/1000\n",
      "1500/1500 [==============================] - 1s 550us/step - loss: 0.0530 - root_mean_squared_error: 0.2303 - val_loss: 0.0533 - val_root_mean_squared_error: 0.2309\n",
      "Epoch 42/1000\n",
      "1500/1500 [==============================] - 1s 551us/step - loss: 0.0529 - root_mean_squared_error: 0.2300 - val_loss: 0.0530 - val_root_mean_squared_error: 0.2303\n",
      "Epoch 43/1000\n",
      "1500/1500 [==============================] - 1s 544us/step - loss: 0.0535 - root_mean_squared_error: 0.2314 - val_loss: 0.0542 - val_root_mean_squared_error: 0.2328\n",
      "Epoch 44/1000\n",
      "1500/1500 [==============================] - 1s 543us/step - loss: 0.0533 - root_mean_squared_error: 0.2308 - val_loss: 0.0553 - val_root_mean_squared_error: 0.2351\n",
      "Epoch 45/1000\n",
      "1500/1500 [==============================] - 1s 549us/step - loss: 0.0534 - root_mean_squared_error: 0.2310 - val_loss: 0.0535 - val_root_mean_squared_error: 0.2313\n",
      "Epoch 46/1000\n",
      "1500/1500 [==============================] - 1s 547us/step - loss: 0.0533 - root_mean_squared_error: 0.2309 - val_loss: 0.0543 - val_root_mean_squared_error: 0.2330\n"
     ]
    },
    {
     "name": "stdout",
     "output_type": "stream",
     "text": [
      "Epoch 47/1000\n",
      "1500/1500 [==============================] - 1s 610us/step - loss: 0.0532 - root_mean_squared_error: 0.2306 - val_loss: 0.0547 - val_root_mean_squared_error: 0.2338\n",
      "Epoch 48/1000\n",
      "1500/1500 [==============================] - 1s 572us/step - loss: 0.0536 - root_mean_squared_error: 0.2314 - val_loss: 0.0542 - val_root_mean_squared_error: 0.2327\n",
      "Epoch 49/1000\n",
      "1500/1500 [==============================] - 1s 547us/step - loss: 0.0535 - root_mean_squared_error: 0.2314 - val_loss: 0.0538 - val_root_mean_squared_error: 0.2319\n",
      "Epoch 50/1000\n",
      "1500/1500 [==============================] - 1s 544us/step - loss: 0.0555 - root_mean_squared_error: 0.2356 - val_loss: 0.0559 - val_root_mean_squared_error: 0.2365\n",
      "Epoch 51/1000\n",
      "1500/1500 [==============================] - 1s 543us/step - loss: 0.0540 - root_mean_squared_error: 0.2324 - val_loss: 0.0526 - val_root_mean_squared_error: 0.2294\n",
      "Epoch 52/1000\n",
      "1500/1500 [==============================] - 1s 611us/step - loss: 0.0524 - root_mean_squared_error: 0.2288 - val_loss: 0.0506 - val_root_mean_squared_error: 0.2250\n",
      "Epoch 53/1000\n",
      "1500/1500 [==============================] - 1s 579us/step - loss: 0.0522 - root_mean_squared_error: 0.2284 - val_loss: 0.0533 - val_root_mean_squared_error: 0.2309\n",
      "Epoch 54/1000\n",
      "1500/1500 [==============================] - 1s 546us/step - loss: 0.0538 - root_mean_squared_error: 0.2320 - val_loss: 0.0540 - val_root_mean_squared_error: 0.2324\n",
      "Epoch 55/1000\n",
      "1500/1500 [==============================] - 1s 580us/step - loss: 0.0521 - root_mean_squared_error: 0.2283 - val_loss: 0.0549 - val_root_mean_squared_error: 0.2343\n",
      "Epoch 56/1000\n",
      "1500/1500 [==============================] - 1s 568us/step - loss: 0.0525 - root_mean_squared_error: 0.2292 - val_loss: 0.0512 - val_root_mean_squared_error: 0.2263\n",
      "Epoch 57/1000\n",
      "1500/1500 [==============================] - 1s 569us/step - loss: 0.0509 - root_mean_squared_error: 0.2257 - val_loss: 0.0516 - val_root_mean_squared_error: 0.2272\n",
      "Epoch 58/1000\n",
      "1500/1500 [==============================] - 1s 517us/step - loss: 0.0503 - root_mean_squared_error: 0.2242 - val_loss: 0.0496 - val_root_mean_squared_error: 0.2228\n",
      "Epoch 59/1000\n",
      "1500/1500 [==============================] - 1s 514us/step - loss: 0.0505 - root_mean_squared_error: 0.2247 - val_loss: 0.0507 - val_root_mean_squared_error: 0.2252\n",
      "Epoch 60/1000\n",
      "1500/1500 [==============================] - 1s 510us/step - loss: 0.0498 - root_mean_squared_error: 0.2233 - val_loss: 0.0495 - val_root_mean_squared_error: 0.2225\n",
      "Epoch 61/1000\n",
      "1500/1500 [==============================] - 1s 520us/step - loss: 0.0488 - root_mean_squared_error: 0.2209 - val_loss: 0.0491 - val_root_mean_squared_error: 0.2215\n",
      "Epoch 62/1000\n",
      "1500/1500 [==============================] - 1s 519us/step - loss: 0.0482 - root_mean_squared_error: 0.2196 - val_loss: 0.0488 - val_root_mean_squared_error: 0.2209\n",
      "Epoch 63/1000\n",
      "1500/1500 [==============================] - 1s 543us/step - loss: 0.0493 - root_mean_squared_error: 0.2220 - val_loss: 0.0508 - val_root_mean_squared_error: 0.2255\n",
      "Epoch 64/1000\n",
      " 304/1500 [=====>........................] - ETA: 0s - loss: 0.0496 - root_mean_squared_error: 0.2227"
     ]
    },
    {
     "ename": "KeyboardInterrupt",
     "evalue": "",
     "output_type": "error",
     "traceback": [
      "\u001b[0;31m---------------------------------------------------------------------------\u001b[0m",
      "\u001b[0;31mKeyboardInterrupt\u001b[0m                         Traceback (most recent call last)",
      "\u001b[0;32m/tmp/ipykernel_104491/2974152002.py\u001b[0m in \u001b[0;36m<module>\u001b[0;34m\u001b[0m\n\u001b[1;32m      2\u001b[0m \u001b[0mnum_batch_size\u001b[0m \u001b[0;34m=\u001b[0m \u001b[0;36m32\u001b[0m\u001b[0;34m\u001b[0m\u001b[0;34m\u001b[0m\u001b[0m\n\u001b[1;32m      3\u001b[0m \u001b[0;34m\u001b[0m\u001b[0m\n\u001b[0;32m----> 4\u001b[0;31m \u001b[0mmodel\u001b[0m\u001b[0;34m.\u001b[0m\u001b[0mfit\u001b[0m\u001b[0;34m(\u001b[0m\u001b[0mx_train\u001b[0m\u001b[0;34m,\u001b[0m \u001b[0my_train\u001b[0m\u001b[0;34m,\u001b[0m \u001b[0mbatch_size\u001b[0m\u001b[0;34m=\u001b[0m\u001b[0mnum_batch_size\u001b[0m\u001b[0;34m,\u001b[0m \u001b[0mepochs\u001b[0m\u001b[0;34m=\u001b[0m\u001b[0mnum_epochs\u001b[0m\u001b[0;34m,\u001b[0m \u001b[0mvalidation_data\u001b[0m\u001b[0;34m=\u001b[0m\u001b[0;34m(\u001b[0m\u001b[0mx_test\u001b[0m\u001b[0;34m,\u001b[0m \u001b[0my_test\u001b[0m\u001b[0;34m)\u001b[0m\u001b[0;34m,\u001b[0m \u001b[0mverbose\u001b[0m\u001b[0;34m=\u001b[0m\u001b[0;36m1\u001b[0m\u001b[0;34m)\u001b[0m\u001b[0;34m\u001b[0m\u001b[0;34m\u001b[0m\u001b[0m\n\u001b[0m",
      "\u001b[0;32m~/src/python/fm_tensor/venv/lib/python3.9/site-packages/keras/engine/training.py\u001b[0m in \u001b[0;36mfit\u001b[0;34m(self, x, y, batch_size, epochs, verbose, callbacks, validation_split, validation_data, shuffle, class_weight, sample_weight, initial_epoch, steps_per_epoch, validation_steps, validation_batch_size, validation_freq, max_queue_size, workers, use_multiprocessing)\u001b[0m\n\u001b[1;32m   1182\u001b[0m                 _r=1):\n\u001b[1;32m   1183\u001b[0m               \u001b[0mcallbacks\u001b[0m\u001b[0;34m.\u001b[0m\u001b[0mon_train_batch_begin\u001b[0m\u001b[0;34m(\u001b[0m\u001b[0mstep\u001b[0m\u001b[0;34m)\u001b[0m\u001b[0;34m\u001b[0m\u001b[0;34m\u001b[0m\u001b[0m\n\u001b[0;32m-> 1184\u001b[0;31m               \u001b[0mtmp_logs\u001b[0m \u001b[0;34m=\u001b[0m \u001b[0mself\u001b[0m\u001b[0;34m.\u001b[0m\u001b[0mtrain_function\u001b[0m\u001b[0;34m(\u001b[0m\u001b[0miterator\u001b[0m\u001b[0;34m)\u001b[0m\u001b[0;34m\u001b[0m\u001b[0;34m\u001b[0m\u001b[0m\n\u001b[0m\u001b[1;32m   1185\u001b[0m               \u001b[0;32mif\u001b[0m \u001b[0mdata_handler\u001b[0m\u001b[0;34m.\u001b[0m\u001b[0mshould_sync\u001b[0m\u001b[0;34m:\u001b[0m\u001b[0;34m\u001b[0m\u001b[0;34m\u001b[0m\u001b[0m\n\u001b[1;32m   1186\u001b[0m                 \u001b[0mcontext\u001b[0m\u001b[0;34m.\u001b[0m\u001b[0masync_wait\u001b[0m\u001b[0;34m(\u001b[0m\u001b[0;34m)\u001b[0m\u001b[0;34m\u001b[0m\u001b[0;34m\u001b[0m\u001b[0m\n",
      "\u001b[0;32m~/src/python/fm_tensor/venv/lib/python3.9/site-packages/tensorflow/python/eager/def_function.py\u001b[0m in \u001b[0;36m__call__\u001b[0;34m(self, *args, **kwds)\u001b[0m\n\u001b[1;32m    893\u001b[0m     \u001b[0;32mif\u001b[0m \u001b[0mcontext\u001b[0m\u001b[0;34m.\u001b[0m\u001b[0mexecuting_eagerly\u001b[0m\u001b[0;34m(\u001b[0m\u001b[0;34m)\u001b[0m\u001b[0;34m:\u001b[0m\u001b[0;34m\u001b[0m\u001b[0;34m\u001b[0m\u001b[0m\n\u001b[1;32m    894\u001b[0m       \u001b[0;32mif\u001b[0m \u001b[0mwithout_tracing\u001b[0m\u001b[0;34m:\u001b[0m\u001b[0;34m\u001b[0m\u001b[0;34m\u001b[0m\u001b[0m\n\u001b[0;32m--> 895\u001b[0;31m         _frequent_tracing_detector_manager.called_without_tracing(\n\u001b[0m\u001b[1;32m    896\u001b[0m             self._key_for_call_stats)\n\u001b[1;32m    897\u001b[0m       \u001b[0;32melse\u001b[0m\u001b[0;34m:\u001b[0m\u001b[0;34m\u001b[0m\u001b[0;34m\u001b[0m\u001b[0m\n",
      "\u001b[0;32m~/src/python/fm_tensor/venv/lib/python3.9/site-packages/tensorflow/python/eager/def_function.py\u001b[0m in \u001b[0;36mcalled_without_tracing\u001b[0;34m(self, key)\u001b[0m\n\u001b[1;32m    184\u001b[0m \u001b[0;34m\u001b[0m\u001b[0m\n\u001b[1;32m    185\u001b[0m   \u001b[0;32mdef\u001b[0m \u001b[0mcalled_without_tracing\u001b[0m\u001b[0;34m(\u001b[0m\u001b[0mself\u001b[0m\u001b[0;34m,\u001b[0m \u001b[0mkey\u001b[0m\u001b[0;34m)\u001b[0m\u001b[0;34m:\u001b[0m\u001b[0;34m\u001b[0m\u001b[0;34m\u001b[0m\u001b[0m\n\u001b[0;32m--> 186\u001b[0;31m     \u001b[0;32mwith\u001b[0m \u001b[0mself\u001b[0m\u001b[0;34m.\u001b[0m\u001b[0m_lock\u001b[0m\u001b[0;34m:\u001b[0m\u001b[0;34m\u001b[0m\u001b[0;34m\u001b[0m\u001b[0m\n\u001b[0m\u001b[1;32m    187\u001b[0m       \u001b[0mdetector\u001b[0m \u001b[0;34m=\u001b[0m \u001b[0mself\u001b[0m\u001b[0;34m.\u001b[0m\u001b[0m_get_detector\u001b[0m\u001b[0;34m(\u001b[0m\u001b[0mkey\u001b[0m\u001b[0;34m)\u001b[0m\u001b[0;34m\u001b[0m\u001b[0;34m\u001b[0m\u001b[0m\n\u001b[1;32m    188\u001b[0m       \u001b[0mdetector\u001b[0m\u001b[0;34m.\u001b[0m\u001b[0mcalled_without_tracing\u001b[0m\u001b[0;34m(\u001b[0m\u001b[0;34m)\u001b[0m\u001b[0;34m\u001b[0m\u001b[0;34m\u001b[0m\u001b[0m\n",
      "\u001b[0;31mKeyboardInterrupt\u001b[0m: "
     ]
    }
   ],
   "source": [
    "num_epochs = 1000\n",
    "num_batch_size = 32\n",
    "\n",
    "model.fit(x_train, y_train, batch_size=num_batch_size, epochs=num_epochs, validation_data=(x_test, y_test), verbose=1)"
   ]
  },
  {
   "cell_type": "code",
   "execution_count": 802,
   "id": "ca8db159",
   "metadata": {},
   "outputs": [
    {
     "name": "stdout",
     "output_type": "stream",
     "text": [
      "Training score: 0.15\n",
      "Testing score: 0.21\n"
     ]
    }
   ],
   "source": [
    "# Evaluating the model on the training and testing set\n",
    "score = model.evaluate(x_train, y_train, verbose=0)\n",
    "print(\"Training score: {0:.2}\".format(score[1]))\n",
    "\n",
    "score = model.evaluate(x_test, y_test, verbose=0)\n",
    "print(\"Testing score: {0:.2}\".format(score[1]))"
   ]
  },
  {
   "cell_type": "code",
   "execution_count": 837,
   "id": "1d625862",
   "metadata": {},
   "outputs": [
    {
     "name": "stdout",
     "output_type": "stream",
     "text": [
      "[[0.16114974 0.21437457 0.49448773 0.05972648]]\n",
      "[[0.10609904 0.15107914 0.11010481 0.17402033]]\n"
     ]
    }
   ],
   "source": [
    "#prediction = model.predict(X)\n",
    "#X\n",
    "np.set_printoptions(suppress=True)\n",
    "print(model.predict(x_train[1517:1518]))\n",
    "print(y_train[1517:1518])"
   ]
  },
  {
   "cell_type": "code",
   "execution_count": 736,
   "id": "02ac1d98",
   "metadata": {},
   "outputs": [
    {
     "name": "stdout",
     "output_type": "stream",
     "text": [
      "391/391 [==============================] - 1s 1ms/step - loss: 0.1484 - root_mean_squared_error: 0.3852\n"
     ]
    },
    {
     "data": {
      "text/plain": [
       "[0.1484052538871765, 0.385233998298645]"
      ]
     },
     "execution_count": 736,
     "metadata": {},
     "output_type": "execute_result"
    }
   ],
   "source": [
    "model.evaluate(x_train, y_train)"
   ]
  },
  {
   "cell_type": "code",
   "execution_count": 833,
   "id": "b159ef5c",
   "metadata": {},
   "outputs": [
    {
     "data": {
      "text/plain": [
       "array([[-214.36975   , -188.01505   , -183.9505    , -190.17633   ,\n",
       "        -186.16972   , -185.95804   , -189.28755   , -181.80202   ,\n",
       "        -183.95082   , -190.37267   , -192.83992   , -186.38098   ,\n",
       "        -186.8587    , -186.25699   , -189.98299   , -182.99745   ,\n",
       "        -181.37186   , -189.56105   , -211.05821   , -229.34169   ,\n",
       "        -270.6906    , -338.3115    ,  327.65057   ,  333.45898   ,\n",
       "         332.72922   ,  331.35632   ,  333.35507   ,  334.82996   ,\n",
       "         334.17682   ,  333.01807   ,  335.08136   ,  335.1153    ,\n",
       "         335.00397   ,  333.53152   ,  333.02942   ,  331.0492    ,\n",
       "         336.83127   ,  329.53702   ,  334.39966   ,  329.79742   ,\n",
       "         327.0368    ,  315.3733    ,  299.12393   ,  264.03003   ,\n",
       "         -60.08419   ,  -75.58531   ,  -79.80492   ,  -76.690506  ,\n",
       "         -78.75038   ,  -78.718796  ,  -74.43533   ,  -80.05696   ,\n",
       "         -79.34136   ,  -71.65438   ,  -70.83493   ,  -78.909676  ,\n",
       "         -78.3525    ,  -77.63565   ,  -71.54489   ,  -86.49509   ,\n",
       "         -81.50127   ,  -78.58775   ,  -62.009964  ,  -64.96006   ,\n",
       "         -41.831554  ,  -21.488972  ,  -36.902157  ,  -36.384148  ,\n",
       "         -36.33285   ,  -39.469734  ,  -38.609818  ,  -40.89174   ,\n",
       "         -40.90607   ,  -35.83474   ,  -39.056625  ,  -40.470253  ,\n",
       "         -40.66518   ,  -37.415848  ,  -39.82589   ,  -35.250637  ,\n",
       "         -41.233616  ,  -39.435883  ,  -38.13617   ,  -35.488533  ,\n",
       "         -39.957184  ,  -47.96996   ,  -46.075817  ,  -49.62603   ,\n",
       "          49.579277  ,   41.649696  ,   43.129997  ,   37.824608  ,\n",
       "          42.995575  ,   42.105347  ,   36.579716  ,   39.96175   ,\n",
       "          42.883797  ,   35.98832   ,   37.385406  ,   46.70009   ,\n",
       "          37.745544  ,   36.39206   ,   38.650574  ,   37.553047  ,\n",
       "          41.807175  ,   43.947235  ,   33.54622   ,   37.934326  ,\n",
       "          27.021467  ,   27.641598  ,    1.6791799 ,   -7.3746796 ,\n",
       "          -4.7819457 ,   -5.691388  ,   -5.604512  ,   -6.355749  ,\n",
       "          -6.9740405 ,   -6.3139277 ,   -9.228041  ,   -5.9767904 ,\n",
       "          -9.60302   ,   -4.217     ,  -10.97669   ,  -11.806162  ,\n",
       "          -6.223632  ,  -16.703285  ,   -9.898283  ,   -7.8774767 ,\n",
       "         -11.63122   ,   -0.00105841,   -5.7120323 ,   10.238917  ,\n",
       "          -9.56831   ,    0.98285615,   -3.2241564 ,    4.757347  ,\n",
       "          -3.7334619 ,   -4.9510574 ,   -1.2107894 ,   -0.22592384,\n",
       "          -9.68158   ,    2.2935498 ,   -4.8782835 ,   -5.931032  ,\n",
       "          -4.2753763 ,    1.0075277 ,   -2.7595289 ,   -8.24877   ,\n",
       "          -7.542727  ,   -6.329182  ,   -7.1959314 ,   -4.873332  ,\n",
       "          -9.679059  ,  -19.538836  ,    6.9504757 ,   12.409327  ,\n",
       "           0.7791023 ,   10.343437  ,    5.2659235 ,    2.8607807 ,\n",
       "           1.7456317 ,    2.3861604 ,    3.0166125 ,    8.436504  ,\n",
       "           5.2309437 ,    2.430695  ,    5.126939  ,   10.835065  ,\n",
       "           5.1743574 ,    3.8799465 ,    4.176499  ,    1.3777289 ,\n",
       "           6.514906  ,    8.428913  ,   10.967985  ,   -0.9828902 ,\n",
       "           0.12283596,   -2.1546884 ,   -4.655143  ,   -4.7408924 ,\n",
       "          -5.763527  ,   -9.307932  ,  -13.215763  ,   -5.698671  ,\n",
       "          -3.3920507 ,   -8.517771  ,   -8.218241  ,   -3.746808  ,\n",
       "          -7.0802174 ,   -2.2294226 ,   -7.9649134 ,   -9.477778  ,\n",
       "          -3.5669644 ,   -8.639045  ,   -7.3543434 ,   -2.8660448 ,\n",
       "          -0.6486417 ,    5.306486  ,    4.0363464 ,    6.9863596 ,\n",
       "          10.838446  ,    9.433311  ,    2.617743  ,    2.6501503 ,\n",
       "           3.420607  ,    7.866242  ,    5.385463  ,    0.33864158,\n",
       "           5.1063843 ,   10.793055  ,    3.932976  ,    6.036369  ,\n",
       "           4.6263185 ,    0.5597559 ,    3.7033362 ,    5.4333873 ,\n",
       "           0.47109276,    3.5102072 ,   -1.1906888 ,   -1.7913276 ,\n",
       "           2.434509  ,    3.7363756 ,    1.4208022 ,    6.435173  ,\n",
       "           0.656676  ,    0.2236979 ,    5.665412  ,   -0.96260554,\n",
       "           0.5316571 ,    0.46088403,    4.3339167 ,    4.378834  ,\n",
       "          -0.15920877,   -1.4656816 ,    5.3430824 ,   -0.01921523,\n",
       "          -0.5019921 ,    4.089665  ,    0.6201867 ,    3.5304956 ,\n",
       "           2.6622088 ,    4.0219717 ,   -3.2498498 ,   -0.6808492 ,\n",
       "          -6.2088885 ,    0.32525796,    0.6892035 ,   -5.9769135 ,\n",
       "           1.069887  ,   -1.9507293 ,   -3.3935819 ,    0.34017244,\n",
       "          -3.6133287 ,   -2.3231268 ,   -4.1278906 ,   -6.1957083 ,\n",
       "           2.3941016 ,   -1.5706608 ,   -1.0598683 ,   -0.4286171 ,\n",
       "          -3.7738547 ,   -6.2347527 ,   -5.3753777 ,    4.4225006 ,\n",
       "           1.1299267 ,    5.9733915 ,    2.0206485 ,    5.126338  ,\n",
       "           6.611862  ,   -0.58531946,    7.460495  ,    9.288928  ,\n",
       "           1.2062178 ,    7.438431  ,    3.9282432 ,    3.150392  ,\n",
       "           4.231884  ,    1.3677387 ,    8.526544  ,    2.9323218 ,\n",
       "           2.0654755 ,    3.4115477 ,    5.506832  ,   -0.84184647,\n",
       "           0.4466561 ,   -0.9362331 ,   -2.2809887 ,   -0.8216693 ,\n",
       "           0.47028708,   -2.9540467 ,   -0.16563065,   -4.2184653 ,\n",
       "           0.3906216 ,   -0.25904036,   -0.72099185,   -1.4629083 ,\n",
       "          -0.35288393,   -6.3301144 ,   -0.11693875,   -3.0066183 ,\n",
       "          -0.11573407,   -5.0438185 ,   -4.198928  ,   -3.2942283 ,\n",
       "           4.779983  ,    1.9982326 ,    6.5622535 ,    1.2063302 ,\n",
       "          -4.929332  ,    0.21031225,    2.7607188 ,    0.92228395,\n",
       "           0.3608153 ,   -1.3040683 ,   -4.5433846 ,   -3.262289  ,\n",
       "           4.184653  ,   -2.6504917 ,   -4.813241  ,   -5.770548  ,\n",
       "          -1.0482875 ,   -3.26151   ,   -1.5026727 ,   -4.9974833 ,\n",
       "          -0.54752505,   -1.2493161 ,    3.9025507 ,    1.0155286 ,\n",
       "           0.8065825 ,    0.98191154,   -3.48874   ,    6.164585  ,\n",
       "           1.8031211 ,    5.956834  ,    1.5049391 ,    2.187439  ,\n",
       "          -1.9933555 ,    1.5982676 ,    3.0184226 ,    6.244749  ,\n",
       "          -2.5992298 ,   -0.3281319 ,   -0.09029011,   -0.66233563,\n",
       "           3.9094706 ,   -1.6517347 ,    0.09220243,    1.8370786 ,\n",
       "           6.315051  ,    0.8858776 ,    1.3206882 ,   -2.4406285 ,\n",
       "          -7.1676836 ,   -0.9471857 ,   -3.0293374 ,   -3.4641685 ,\n",
       "          -4.7370434 ,   -3.1348357 ,   -3.576576  ,   -1.6513357 ,\n",
       "          -4.279002  ,    3.3723605 ,   -5.744616  ,   -4.58873   ,\n",
       "          -1.3075484 ,   -0.36231923,   -1.9372709 ,   -3.2140827 ,\n",
       "          -3.4723642 ,   -3.4778972 ,   -0.50850195,   -3.4267812 ,\n",
       "           4.5072136 ,   -1.2452896 ,   -2.312256  ,   -1.813082  ,\n",
       "           1.5726495 ,    1.2196376 ,   -1.8113756 ,   -0.71059406,\n",
       "          -1.323443  ,   -1.2841524 ,   -0.65747803,   -0.84692526,\n",
       "          -2.8156054 ,    2.9407961 ,    2.8666737 ,    4.8160458 ,\n",
       "          -0.814518  ,    1.890341  ,    2.011298  ,   -0.5150629 ,\n",
       "          -2.561975  ,    0.14797163,    3.598055  ,   -0.932176  ,\n",
       "           4.4634333 ,    2.2713428 ,   -1.0877928 ,    5.3063645 ,\n",
       "           2.017216  ,   -0.6457716 ,    0.6792346 ,    1.4904137 ,\n",
       "          -1.1364458 ,    2.6160636 ,    1.424253  ,    5.8346376 ,\n",
       "          -2.1777549 ,    4.8334103 ,    2.4727244 ,    3.0422792 ,\n",
       "           1.2788455 ,    0.7075217 ,   -0.7662692 ,    4.8888874 ,\n",
       "           3.4152663 ,   -1.3963968 ,   -0.29942906,   -0.12060261,\n",
       "          -4.704404  ,   -2.0104463 ,    2.315584  ,   -3.4282436 ,\n",
       "           0.5101503 ,    3.4463675 ,   -2.6277525 ,    6.2987833 ,\n",
       "           0.01025444,   -3.8459468 ,   -1.5855207 ,    4.16405   ,\n",
       "          -1.9588602 ,    1.4162298 ,    0.0424509 ,   -1.7324089 ,\n",
       "          -1.7617891 ,    0.91438   ,    2.0770721 ,    1.5616231 ]],\n",
       "      dtype=float32)"
      ]
     },
     "execution_count": 833,
     "metadata": {},
     "output_type": "execute_result"
    }
   ],
   "source": [
    "x_train[517:518]"
   ]
  },
  {
   "cell_type": "code",
   "execution_count": 801,
   "id": "7ed9cb13",
   "metadata": {},
   "outputs": [
    {
     "name": "stderr",
     "output_type": "stream",
     "text": [
      "2021-10-20 17:25:04.415099: W tensorflow/python/util/util.cc:348] Sets are not currently considered sequences, but this may change in the future, so consider avoiding using them.\n"
     ]
    },
    {
     "name": "stdout",
     "output_type": "stream",
     "text": [
      "INFO:tensorflow:Assets written to: /home/luc/src/python/fm_tensor/recs3/model_60_40_20.model/assets\n"
     ]
    }
   ],
   "source": [
    "model.save('/home/luc/src/python/fm_tensor/recs3/model_60_40_20.model')"
   ]
  },
  {
   "cell_type": "code",
   "execution_count": 826,
   "id": "3341d8a2",
   "metadata": {},
   "outputs": [],
   "source": [
    "model = keras.models.load_model('/home/luc/src/python/fm_tensor/recs3/model_60_40_20.model')"
   ]
  },
  {
   "cell_type": "code",
   "execution_count": 844,
   "id": "ebd33c73",
   "metadata": {},
   "outputs": [],
   "source": [
    "def predict_audio(file):\n",
    "    features = extract_features(file)\n",
    "    prediction = model.predict(np.array([features]))[0]\n",
    "    maxs = np.array(data.label.tolist()).max(axis=0)\n",
    "    scaled = prediction * maxs\n",
    "    \n",
    "    return scaled"
   ]
  },
  {
   "cell_type": "code",
   "execution_count": 867,
   "id": "1410d42f",
   "metadata": {},
   "outputs": [
    {
     "data": {
      "text/plain": [
       "array([-209.72848826,    1.31718638,    1.31537357,    0.05041321])"
      ]
     },
     "execution_count": 867,
     "metadata": {},
     "output_type": "execute_result"
    }
   ],
   "source": [
    "predict_audio('/home/luc/src/python/fm_tensor/whistle.wav')"
   ]
  }
 ],
 "metadata": {
  "kernelspec": {
   "display_name": "Python 3 (ipykernel)",
   "language": "python",
   "name": "python3"
  },
  "language_info": {
   "codemirror_mode": {
    "name": "ipython",
    "version": 3
   },
   "file_extension": ".py",
   "mimetype": "text/x-python",
   "name": "python",
   "nbconvert_exporter": "python",
   "pygments_lexer": "ipython3",
   "version": "3.9.7"
  }
 },
 "nbformat": 4,
 "nbformat_minor": 5
}
